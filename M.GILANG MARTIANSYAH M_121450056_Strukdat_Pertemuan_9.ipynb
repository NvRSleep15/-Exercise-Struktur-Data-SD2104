{
  "cells": [
    {
      "cell_type": "markdown",
      "source": [
        "**STRUKTUR DATA Pertemuan 9**\n",
        "---\n",
        "---\n",
        "**M.GILANG MARTIANSYAH M**\n",
        "--\n",
        "**121450056- Kelas RC**\n",
        "\n",
        "\n",
        "\n"
      ],
      "metadata": {
        "id": "JLbem1T2fgt6"
      }
    },
    {
      "cell_type": "markdown",
      "metadata": {
        "id": "AcHOsRaQxKxe"
      },
      "source": [
        "**Introduction Section**\n",
        "1. Jelaskan definisi object dalam Paradigma Object-Oriented!\n",
        "2. Jelaskan tiga tujuan dalam Paradigma Object-Oriented!\n",
        "3. Jelaskan tiga prinsip dalam Paradigma Object-Oriented!\n",
        "4. Sebutkan contoh design pattern dalam Paradigma Object-Oriented!\n",
        "\n",
        "**Jawab**\n",
        "1. Object dalam paragdigma object- oriented, adalah objek merupakan salahsatu pondasi utama dalam sebuah paradigm object-oriented. Pada setiap objek merupakan bagian kelas, yangmana kelas digunakan dalam instance variabel\n",
        "\n",
        "2. A. Robustness\n",
        "kekokohan dalam menangani sebuah hal tak terduga input\n",
        "B. Adaptability\n",
        "Beradaptasi pa perubahan pada perangkat atau sistem operasi yang berbeda\n",
        "C. Reusability \n",
        "menggunakan kembali kode yang sama sebgai komponen\n",
        "\n",
        "3. A. Modularity\n",
        "Modularitas, suatu fungsi dan kelas bisa disamakan dlam satu sumber file kode\n",
        "B. Abstarction\n",
        "Abstraksi, sebuah model struktur data yang bisa  dilihat dari jenis data yang disimpan, operasi yang didukung serta jenis parameter operasi\n",
        "C. Encapsulation\n",
        "Enkapsulasi, beberapa struktur data diasumsikan menjadi sebuah yang publik\n",
        "\n",
        "4. Creational pattern, behavioral pattern dan structural pattern\n",
        "```\n",
        "\n",
        "\n"
      ]
    },
    {
      "cell_type": "markdown",
      "metadata": {
        "id": "7_BRubL50u7j"
      },
      "source": [
        "**Class and Object**\n",
        "1. Jelaskan definisi Class!\n",
        "2. Jelaskan perbedaan Attribute dengan Method!\n",
        "3. Jelaskan apa itu instansiasi Object!\n",
        "4. Jelaskan apa itu identifier!\n",
        "\n",
        "**Jawaban**\n",
        "1. Class adalah sebuah dasar utama dalam pemmrograman berorientasi objek yang memiliki atrbut dan method\n",
        "2. Atribut adalah kelas yang memiliki karakteristik yang mana bisa berupa variabel dalam kelas, sedangkan method adalah objek yang mempunyai fungsi\n",
        "3. instansiasi object adalah suatu objek yang mempunyai sebuah fungsi yang unik\n",
        "4. Identifier adalah sebuah penanda identitas pada sebuah fungsi yang dideklarasikan"
      ]
    },
    {
      "cell_type": "markdown",
      "metadata": {
        "id": "a1f-1BVR3WcC"
      },
      "source": [
        "**Implementing Class**\n",
        "---\n",
        "Implementasikan kelas diagram \"Kendaraan\" berikut ke dalam Python!\n",
        "\n",
        "   Class Kendaraan :\n",
        "   \n",
        "    - string nomorPlat\n",
        "    - string merk\n",
        "    - string jenis\n",
        "    - string warna\n",
        "    - int tanggalBeli\n",
        "    - int bulanBeli\n",
        "    - int tahunBeli\n",
        "    - double berat\n",
        "    - double harga\n",
        "    - showTanggalPembelian()"
      ]
    },
    {
      "cell_type": "code",
      "execution_count": null,
      "metadata": {
        "colab": {
          "base_uri": "https://localhost:8080/"
        },
        "id": "5JlDKCWYof_T",
        "outputId": "df174b21-0389-4a15-c7e3-dd8c410bae31"
      },
      "outputs": [
        {
          "output_type": "stream",
          "name": "stdout",
          "text": [
            "9/7/2022\n"
          ]
        }
      ],
      "source": [
        "class Kendaraan:\n",
        "  def __init__ (self, nomorPlat, merk, jenis, warna, tanggalBeli, bulanBeli, tahunBeli, berat, harga):\n",
        "    self.nomorPlat = nomorPlat\n",
        "    self.merk  = merk \n",
        "    self.jenis = jenis\n",
        "    self.warna = warna\n",
        "    self.tanggalBeli = tanggalBeli  \n",
        "    self.bulanBeli = bulanBeli  \n",
        "    self.tahunBeli = tahunBeli\n",
        "    self.berat = berat\n",
        "    self.harga = harga\n",
        "  \n",
        "  def showTanggalPembelian(self):\n",
        "    print(f\"{self.tanggalBeli}/{self.bulanBeli}/{self.tahunBeli}\")\n",
        "\n",
        "# Main Program \n",
        "Motor = Kendaraan(\"BA 2839 PQ\", \"Tesla\", \"Matic\", \"Putih\", 9, 7, 2022, 110.7, 450000000)\n",
        "Motor.showTanggalPembelian()"
      ]
    },
    {
      "cell_type": "markdown",
      "metadata": {
        "id": "pLaevbK13nwL"
      },
      "source": [
        "**Main OOP Concept**\n",
        "1. Jelaskan konsep encapsulation dalam Paradigma Object-Oriented!\n",
        "2. Jelaskan konsep inheritance dalam Paradigma Object-Oriented!\n",
        "3. Jelaskan perbedaan public method dan private method dalam encapsulation!\n",
        "4. Jelaskan perbedaan superclass dan subclass dalam inheritance!\n",
        "\n",
        "**Jawab**\n",
        "1. Konsep encapsulation dalam paradigm object-oriented, berfungsi dalam membatasi akses method dan variabel. Agar menghindari modifikasi langsung data\n",
        "\n",
        "2. Inheritance adalah sebuah konsep penurunan sifat dan karakter yang selalu mempunyai sifat dan karakter yang sama pada kelas utamanya\n",
        "\n",
        "3. Public method adalah method yang bisa diakses secara publik (bahkan luar class ataupun fungsi), sedangkan Privat method adalah method hanya bisa diakses secara private (objek itu sendiri).\n",
        "\n",
        "4. Superclass adalah pewarisan atau penurunan data, yang bersifat umum. sedangkan subclass adalah kelas yang diturunkan dari superclass, bersifat khusus/ spesifik.\n",
        "\n"
      ]
    },
    {
      "cell_type": "markdown",
      "metadata": {
        "id": "u1I97Bicylxk"
      },
      "source": [
        "## Programming Exercise\n",
        "- Buatlah class diagram dari code python berikut ini:\n",
        "\n",
        "```python\n",
        "class Koordinat:\n",
        "\tdef __init__(self,x,y):\n",
        "\t\tself.z = 0\n",
        "\t\tself.x = x\n",
        "\t\tself.y = y\n",
        "\tdef set_x(self,x):\n",
        "\t\tself.x = x\n",
        "\tdef increment_x(self):\n",
        "\t\tself.x+=1\n",
        "\tdef __str__(self):\n",
        "\t\treturn f\"x : {self.x} , y:{self.y} , z:{self.z}\"\n",
        "```"
      ]
    },
    {
      "cell_type": "markdown",
      "metadata": {
        "id": "CvgDLYaR7C-f"
      },
      "source": [
        "<center>\n",
        "<table>\n",
        "  <tr>\n",
        "    <th>Koordinat</th>\n",
        "  </tr>\n",
        "  <tr>\n",
        "    <td>int z = 0<br><br> int x <br><br> int y </td>\n",
        "  </tr>\n",
        "  <tr>\n",
        "    <td>set_x() <br><br> increment_x() <br><br> __str__() </td>\n",
        "  </tr>\n",
        "</table>"
      ]
    },
    {
      "cell_type": "markdown",
      "metadata": {
        "id": "N7WV6DRw_OAf"
      },
      "source": [
        "- Implementasikan class diagram berikut menjadi program python!\n",
        "\n",
        "<center>\n",
        "<table>\n",
        "  <tr>\n",
        "    <th>Koordinat</th>\n",
        "  </tr>\n",
        "  <tr>\n",
        "    <td>int x <br><br> int y <br><br> int z </td>\n",
        "  </tr>\n",
        "  <tr>\n",
        "    <td>setx() <br><br> sety() <br><br> setz() </td>\n",
        "  </tr>\n",
        "</table>\n"
      ]
    },
    {
      "cell_type": "code",
      "execution_count": null,
      "metadata": {
        "id": "kxcZIyWp_wmN"
      },
      "outputs": [],
      "source": [
        "class Koordinat:\n",
        "  def __init__(self, x, y, z):\n",
        "    self.x = x\n",
        "    self.y = y\n",
        "    self.z = z\n",
        "  def setx(self, x):\n",
        "    self.x = x\n",
        "  def sety(self, y):\n",
        "    self.y = y\n",
        "  def setz(self, z):\n",
        "    self.z = z"
      ]
    },
    {
      "cell_type": "markdown",
      "metadata": {
        "id": "_KiADGjUAjZm"
      },
      "source": [
        "<center>\n",
        "<table>\n",
        "  <tr>\n",
        "    <th>Vector</th>\n",
        "  </tr>\n",
        "  <tr>\n",
        "    <td>Koordinat Koordinat</td>\n",
        "  </tr>\n",
        "  <tr>\n",
        "    <td>setKoordinat() <br><br> getKoordinat() <br><br> norm()</td>\n",
        "  </tr>\n",
        "</table>"
      ]
    },
    {
      "cell_type": "code",
      "execution_count": null,
      "metadata": {
        "id": "QKuNHtiPBNzR"
      },
      "outputs": [],
      "source": [
        "import math\n",
        "class Vector:\n",
        "  def __init__(self, koordinat):\n",
        "    self.koordinat = koordinat\n",
        "  def setKoordinat(self, koor):\n",
        "    self.koordinat = koor\n",
        "  def getKoordinat(self, y):\n",
        "    return self.koordinat\n",
        "  def norm(self):\n",
        "    norm = 0\n",
        "    for i in range(len(self.koordinat)):\n",
        "      norm = norm + math.sqrt(self.koordinat[i])\n",
        "    return math.sqrt(norm)"
      ]
    },
    {
      "cell_type": "markdown",
      "metadata": {
        "id": "lZ_G5zsxC2pm"
      },
      "source": [
        "- fungsi norm() adalah fungsi untuk menghitung norm dari sebuah vector yaitu\n",
        "norm = $\\sqrt{x^2 + y^2 + z^2}$ . Buatlah fungsi untuk menghitung norm dari vector berdasarkan class yang telah anda buat! "
      ]
    },
    {
      "cell_type": "code",
      "execution_count": null,
      "metadata": {
        "colab": {
          "base_uri": "https://localhost:8080/"
        },
        "id": "CtNf-QJGC3yG",
        "outputId": "0e14d017-5a2c-4ff1-eda4-23e9b89ae40f"
      },
      "outputs": [
        {
          "output_type": "execute_result",
          "data": {
            "text/plain": [
              "15.811388300841896"
            ]
          },
          "metadata": {},
          "execution_count": 54
        }
      ],
      "source": [
        "import math\n",
        "class Vector:\n",
        "  def __init__(self, koordinat):\n",
        "      self.koordinat = koordinat\n",
        "  def setKoordinat(self, koor):\n",
        "      self.koordinat = koor\n",
        "  def getKoordinat(self, y):\n",
        "      return self.koordinat\n",
        "  def norm(self):\n",
        "      norm = 0\n",
        "      for i in range(len(self.koordinat)):\n",
        "        norm = norm + self.koordinat[i]**2\n",
        "      return math.sqrt(norm)\n",
        "\n",
        "koordinat = Vector([5, 9, 12])\n",
        "koordinat.norm()"
      ]
    },
    {
      "cell_type": "markdown",
      "metadata": {
        "id": "eIil2Ab0Eijc"
      },
      "source": [
        "- Euclidian Distance adalah jarak antara 2 vector dan didefinisikan sebagai \n",
        "$$d = \\sqrt{ (x_1 - x_2)^2 + (y_1 - y_2)^2 + (x_1 - x_2)^2 } $$\n",
        "buatlah program untuk menghitung euclidian distance antara 2 vector berdasarkan class yang telah anda buat!"
      ]
    },
    {
      "cell_type": "code",
      "execution_count": null,
      "metadata": {
        "colab": {
          "base_uri": "https://localhost:8080/"
        },
        "id": "qcupYoR3E0Oh",
        "outputId": "0cb95d4e-e070-433f-e9a1-7c43f5fb1a27"
      },
      "outputs": [
        {
          "output_type": "execute_result",
          "data": {
            "text/plain": [
              "6.557438524302"
            ]
          },
          "metadata": {},
          "execution_count": 59
        }
      ],
      "source": [
        "import math\n",
        "class Vector:\n",
        "  def __init__(self, vectorA, vectorB):\n",
        "    self.vectorA = vectorA\n",
        "    self.vectorB = vectorB\n",
        "  def euclid(self):\n",
        "    distance = 0\n",
        "    for i in range(len(self.vectorA)):\n",
        "      distance = distance + (self.vectorA[i] - self.vectorB[i])**2\n",
        "    return math.sqrt(distance)\n",
        "  \n",
        "v = Vector([2, 4, 4], [5, 7, 9])\n",
        "v.euclid()"
      ]
    },
    {
      "cell_type": "markdown",
      "metadata": {
        "id": "w6UOOc3lH83f"
      },
      "source": [
        "- Perhatikan tabel berikut\n",
        "\n",
        "| Vector | x   | y   | z   | kelas |\n",
        "| ------ | --- | --- | --- | ----- |\n",
        "| A      | 0   | 1   | 1   | 0     |\n",
        "| B      | 2   | 2   | 2   | 1     |\n",
        "| C      | 1.5 | 1.2 | 1.5 | 1     |\n",
        "| D      | 10  | 9   | 8   | 0     |\n",
        "| E      | 5   | 5   | 5   | 0     |\n",
        "| F      | 8   | 8   | 8   | 0     |\n",
        "| G      | 6   | 6   | 1   | 0     |\n",
        "| H      | 3   | 3   | 3   | ?     |\n",
        "\n",
        "Salah satu metode dalam data science untuk melakukan klasifikasi adalah dengan menggunakan k-nearest neighbor, dimana cara menentukan label kelas adalah dengan cara melihat tetangga dengan euclidian distance terdekat. Tentukan kelas dari vector H dengan cara:\n",
        "- Tentukan 3 tetangga paling dekat dari H \n",
        "- dari 3 tetangga tersebut, pilih kelas yang paling banyak muncul\n",
        "- Jadikan kelas yang paling banyak muncul tersebut sebagai kelas dari vector H\n",
        "\n",
        "Implementasikan algoritma tersebut menggunakan program python dengan paradigma object-oriented programming yang telah anda pelajari!"
      ]
    },
    {
      "cell_type": "code",
      "execution_count": null,
      "metadata": {
        "id": "5TXDRCFaNHNO"
      },
      "outputs": [],
      "source": [
        "import math\n",
        "class Koordinat:\n",
        "    def __init__(self, x, y, z):\n",
        "        self.x = x\n",
        "        self.y = y\n",
        "        self.z = z\n",
        "    \n",
        "    def setx(self):\n",
        "        return self.x\n",
        "\n",
        "    def sety(self):\n",
        "        return self.y\n",
        "\n",
        "    def setz(self):\n",
        "        return self.z\n",
        "        \n",
        "class Vector:\n",
        "    def getKoordinat(self,setx,sety,setz):\n",
        "        self.setx = setx\n",
        "        self.sety = sety\n",
        "        self.setz = setz\n",
        "\n",
        "    def setKoordinat(self,k):\n",
        "        koordinat = (k.setx(), k.sety(), k.setz())\n",
        "        return koordinat\n",
        "\n",
        "    def norm(self,a,b):\n",
        "        sum = 0\n",
        "        self.a = self.setKoordinat(a)\n",
        "        self.b = self.setKoordinat(b)\n",
        "        for n in range (3):\n",
        "            sum = sum + (self.a[n]-self.b[n])**2\n",
        "        return math.sqrt(sum)"
      ]
    },
    {
      "cell_type": "code",
      "source": [
        "a = Koordinat( 0 , 1 , 1 )\n",
        "b = Koordinat( 2 , 2 , 2 )\n",
        "c = Koordinat( 1.5 , 1.2, 1.5 )\n",
        "d = Koordinat( 10 , 9 , 8 )\n",
        "e = Koordinat( 5 , 5 , 5 )\n",
        "f = Koordinat( 8 , 8 , 8 )\n",
        "g = Koordinat( 6 , 6 , 1 )\n",
        "h = Koordinat( 3 , 3 , 3 )\n",
        "v = Vector()\n",
        "titik = [a,b,c,d,e,f,g,h]\n",
        "\n",
        "output = []\n",
        "for n in range (len(titik)):\n",
        "    panjang = v.norm(titik[n],titik[7])\n",
        "    output.append(panjang)\n",
        "    #print('Jarak titik H ke titik',titik[n],panjang)\n",
        "\n",
        "print(output)\n",
        "output.sort()\n",
        "print(\"    \")\n",
        "print(\"3 tetangga paling dekat dengan H secara berurutan yaitu:\")\n",
        "print(\"1.)\" ,output[1])\n",
        "print(\"2.)\", output[2])\n",
        "print(\"3.)\", output[3] )\n"
      ],
      "metadata": {
        "colab": {
          "base_uri": "https://localhost:8080/"
        },
        "id": "45h3ivoa5KMk",
        "outputId": "4dddae16-06a0-44f5-e6f8-7667e35eefbf"
      },
      "execution_count": null,
      "outputs": [
        {
          "output_type": "stream",
          "name": "stdout",
          "text": [
            "[4.123105625617661, 1.7320508075688772, 2.7820855486487113, 10.488088481701515, 3.4641016151377544, 8.660254037844387, 4.69041575982343, 0.0]\n",
            "    \n",
            "3 tetangga paling dekat dengan H secara berurutan yaitu:\n",
            "1.) 1.7320508075688772\n",
            "2.) 2.7820855486487113\n",
            "3.) 3.4641016151377544\n"
          ]
        }
      ]
    }
  ],
  "metadata": {
    "colab": {
      "provenance": []
    },
    "kernelspec": {
      "display_name": "Python 3.10.5 64-bit",
      "language": "python",
      "name": "python3"
    },
    "language_info": {
      "name": "python",
      "version": "3.10.5"
    },
    "vscode": {
      "interpreter": {
        "hash": "afb734500600fd355917ca529030176ea0ca205570884b88f2f6f7d791fd3fbe"
      }
    }
  },
  "nbformat": 4,
  "nbformat_minor": 0
}
